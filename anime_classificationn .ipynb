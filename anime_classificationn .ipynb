{
 "cells": [
  {
   "cell_type": "markdown",
   "metadata": {},
   "source": [
    "# Anime Text Classification "
   ]
  },
  {
   "cell_type": "code",
   "execution_count": 78,
   "metadata": {},
   "outputs": [],
   "source": [
    "import pandas as pd \n",
    "import numpy as np \n",
    "import seaborn as sns\n",
    "import matplotlib.pyplot as plt "
   ]
  },
  {
   "cell_type": "code",
   "execution_count": 2,
   "metadata": {},
   "outputs": [],
   "source": [
    "# Load ML Pkgs\n",
    "from sklearn.linear_model import LogisticRegression\n",
    "from sklearn.tree import DecisionTreeClassifier\n",
    "from sklearn.neighbors import KNeighborsClassifier\n",
    "from sklearn.naive_bayes import MultinomialNB\n",
    "\n",
    "# Transformers\n",
    "from sklearn.feature_extraction.text import CountVectorizer,TfidfVectorizer\n",
    "# Others\n",
    "from sklearn.model_selection import train_test_split\n",
    "from sklearn.pipeline import Pipeline\n",
    "from sklearn.metrics import accuracy_score,classification_report,confusion_matrix,plot_confusion_matrix\n",
    "\n",
    "import re \n",
    "from sklearn.feature_extraction.text import CountVectorizer, TfidfVectorizer\n",
    "from sklearn.metrics import accuracy_score"
   ]
  },
  {
   "cell_type": "markdown",
   "metadata": {},
   "source": [
    "# Data Manipulation"
   ]
  },
  {
   "cell_type": "code",
   "execution_count": 3,
   "metadata": {},
   "outputs": [],
   "source": [
    "anime = pd.read_csv(\"AnimeQuotes.csv\")\n",
    "df = anime.copy()"
   ]
  },
  {
   "cell_type": "code",
   "execution_count": 4,
   "metadata": {},
   "outputs": [
    {
     "data": {
      "text/html": [
       "<div>\n",
       "<style scoped>\n",
       "    .dataframe tbody tr th:only-of-type {\n",
       "        vertical-align: middle;\n",
       "    }\n",
       "\n",
       "    .dataframe tbody tr th {\n",
       "        vertical-align: top;\n",
       "    }\n",
       "\n",
       "    .dataframe thead th {\n",
       "        text-align: right;\n",
       "    }\n",
       "</style>\n",
       "<table border=\"1\" class=\"dataframe\">\n",
       "  <thead>\n",
       "    <tr style=\"text-align: right;\">\n",
       "      <th></th>\n",
       "      <th>Quote</th>\n",
       "      <th>Character</th>\n",
       "      <th>Anime</th>\n",
       "    </tr>\n",
       "  </thead>\n",
       "  <tbody>\n",
       "    <tr>\n",
       "      <th>0</th>\n",
       "      <td>People’s lives don’t end when they die, it end...</td>\n",
       "      <td>Itachi Uchiha</td>\n",
       "      <td>Naruto</td>\n",
       "    </tr>\n",
       "    <tr>\n",
       "      <th>1</th>\n",
       "      <td>If you don’t take risks, you can’t create a fu...</td>\n",
       "      <td>Monkey D Luffy</td>\n",
       "      <td>One Piece</td>\n",
       "    </tr>\n",
       "    <tr>\n",
       "      <th>2</th>\n",
       "      <td>If you don’t like your destiny, don’t accept it.</td>\n",
       "      <td>Naruto Uzumaki</td>\n",
       "      <td>Naruto</td>\n",
       "    </tr>\n",
       "    <tr>\n",
       "      <th>3</th>\n",
       "      <td>When you give up, that’s when the game ends.</td>\n",
       "      <td>Mitsuyoshi Anzai</td>\n",
       "      <td>Slam Dunk</td>\n",
       "    </tr>\n",
       "    <tr>\n",
       "      <th>4</th>\n",
       "      <td>All we can do is live until the day we die. Co...</td>\n",
       "      <td>Deneil Young</td>\n",
       "      <td>Uchuu Kyoudai or Space Brothers</td>\n",
       "    </tr>\n",
       "  </tbody>\n",
       "</table>\n",
       "</div>"
      ],
      "text/plain": [
       "                                               Quote         Character  \\\n",
       "0  People’s lives don’t end when they die, it end...     Itachi Uchiha   \n",
       "1  If you don’t take risks, you can’t create a fu...    Monkey D Luffy   \n",
       "2   If you don’t like your destiny, don’t accept it.    Naruto Uzumaki   \n",
       "3       When you give up, that’s when the game ends.  Mitsuyoshi Anzai   \n",
       "4  All we can do is live until the day we die. Co...      Deneil Young   \n",
       "\n",
       "                             Anime  \n",
       "0                           Naruto  \n",
       "1                        One Piece  \n",
       "2                           Naruto  \n",
       "3                        Slam Dunk  \n",
       "4  Uchuu Kyoudai or Space Brothers  "
      ]
     },
     "execution_count": 4,
     "metadata": {},
     "output_type": "execute_result"
    }
   ],
   "source": [
    "df.head()"
   ]
  },
  {
   "cell_type": "code",
   "execution_count": 5,
   "metadata": {},
   "outputs": [
    {
     "data": {
      "text/plain": [
       "(121, 3)"
      ]
     },
     "execution_count": 5,
     "metadata": {},
     "output_type": "execute_result"
    }
   ],
   "source": [
    "df.shape"
   ]
  },
  {
   "cell_type": "code",
   "execution_count": 6,
   "metadata": {},
   "outputs": [
    {
     "name": "stdout",
     "output_type": "stream",
     "text": [
      "<class 'pandas.core.frame.DataFrame'>\n",
      "RangeIndex: 121 entries, 0 to 120\n",
      "Data columns (total 3 columns):\n",
      " #   Column     Non-Null Count  Dtype \n",
      "---  ------     --------------  ----- \n",
      " 0   Quote      121 non-null    object\n",
      " 1   Character  121 non-null    object\n",
      " 2   Anime      120 non-null    object\n",
      "dtypes: object(3)\n",
      "memory usage: 3.0+ KB\n"
     ]
    }
   ],
   "source": [
    "df.info()"
   ]
  },
  {
   "cell_type": "code",
   "execution_count": 42,
   "metadata": {},
   "outputs": [],
   "source": [
    "characters = df[\"Character\"].unique()"
   ]
  },
  {
   "cell_type": "code",
   "execution_count": 43,
   "metadata": {
    "scrolled": false
   },
   "outputs": [],
   "source": [
    "animes = df[\"Anime\"].unique()"
   ]
  },
  {
   "cell_type": "markdown",
   "metadata": {},
   "source": [
    "# NaN Values"
   ]
  },
  {
   "cell_type": "code",
   "execution_count": 45,
   "metadata": {},
   "outputs": [
    {
     "data": {
      "text/html": [
       "<div>\n",
       "<style scoped>\n",
       "    .dataframe tbody tr th:only-of-type {\n",
       "        vertical-align: middle;\n",
       "    }\n",
       "\n",
       "    .dataframe tbody tr th {\n",
       "        vertical-align: top;\n",
       "    }\n",
       "\n",
       "    .dataframe thead th {\n",
       "        text-align: right;\n",
       "    }\n",
       "</style>\n",
       "<table border=\"1\" class=\"dataframe\">\n",
       "  <thead>\n",
       "    <tr style=\"text-align: right;\">\n",
       "      <th></th>\n",
       "      <th>column_name</th>\n",
       "      <th>percentage</th>\n",
       "    </tr>\n",
       "  </thead>\n",
       "  <tbody>\n",
       "    <tr>\n",
       "      <th>0</th>\n",
       "      <td>Quote</td>\n",
       "      <td>0.0</td>\n",
       "    </tr>\n",
       "    <tr>\n",
       "      <th>1</th>\n",
       "      <td>Character</td>\n",
       "      <td>0.0</td>\n",
       "    </tr>\n",
       "    <tr>\n",
       "      <th>2</th>\n",
       "      <td>Anime</td>\n",
       "      <td>0.0</td>\n",
       "    </tr>\n",
       "    <tr>\n",
       "      <th>3</th>\n",
       "      <td>logistic</td>\n",
       "      <td>0.0</td>\n",
       "    </tr>\n",
       "    <tr>\n",
       "      <th>4</th>\n",
       "      <td>naivebayes</td>\n",
       "      <td>0.0</td>\n",
       "    </tr>\n",
       "    <tr>\n",
       "      <th>5</th>\n",
       "      <td>xgboost</td>\n",
       "      <td>0.0</td>\n",
       "    </tr>\n",
       "  </tbody>\n",
       "</table>\n",
       "</div>"
      ],
      "text/plain": [
       "  column_name  percentage\n",
       "0       Quote         0.0\n",
       "1   Character         0.0\n",
       "2       Anime         0.0\n",
       "3    logistic         0.0\n",
       "4  naivebayes         0.0\n",
       "5     xgboost         0.0"
      ]
     },
     "execution_count": 45,
     "metadata": {},
     "output_type": "execute_result"
    }
   ],
   "source": [
    "NAN = [(c, df[c].isna().mean()*100) for c in df]\n",
    "NAN = pd.DataFrame(NAN, columns=[\"column_name\", \"percentage\"])\n",
    "NAN.sort_values(\"percentage\", ascending=False)"
   ]
  },
  {
   "cell_type": "code",
   "execution_count": 25,
   "metadata": {},
   "outputs": [],
   "source": [
    "df.dropna(inplace=True)"
   ]
  },
  {
   "cell_type": "code",
   "execution_count": null,
   "metadata": {},
   "outputs": [],
   "source": [
    "NAN = [(c, df[c].isna().mean()*100) for c in df]\n",
    "NAN = pd.DataFrame(NAN, columns=[\"column_name\", \"percentage\"])\n",
    "NAN.sort_values(\"percentage\", ascending=False)"
   ]
  },
  {
   "cell_type": "markdown",
   "metadata": {},
   "source": [
    "# Text Preprocessing"
   ]
  },
  {
   "cell_type": "code",
   "execution_count": 46,
   "metadata": {},
   "outputs": [
    {
     "name": "stdout",
     "output_type": "stream",
     "text": [
      "Requirement already satisfied: textblob in d:\\spyde\\lib\\site-packages (0.15.3)\n",
      "Requirement already satisfied: nltk>=3.1 in d:\\spyde\\lib\\site-packages (from textblob) (3.5)\n",
      "Requirement already satisfied: tqdm in d:\\spyde\\lib\\site-packages (from nltk>=3.1->textblob) (4.50.2)\n",
      "Requirement already satisfied: joblib in d:\\spyde\\lib\\site-packages (from nltk>=3.1->textblob) (0.17.0)\n",
      "Requirement already satisfied: regex in d:\\spyde\\lib\\site-packages (from nltk>=3.1->textblob) (2020.10.15)\n",
      "Requirement already satisfied: click in d:\\spyde\\lib\\site-packages (from nltk>=3.1->textblob) (7.1.2)\n",
      "Requirement already satisfied: nltk in d:\\spyde\\lib\\site-packages (3.5)\n",
      "Requirement already satisfied: joblib in d:\\spyde\\lib\\site-packages (from nltk) (0.17.0)\n",
      "Requirement already satisfied: click in d:\\spyde\\lib\\site-packages (from nltk) (7.1.2)\n",
      "Requirement already satisfied: regex in d:\\spyde\\lib\\site-packages (from nltk) (2020.10.15)\n",
      "Requirement already satisfied: tqdm in d:\\spyde\\lib\\site-packages (from nltk) (4.50.2)\n"
     ]
    }
   ],
   "source": [
    "!pip install textblob\n",
    "!pip install nltk \n",
    "\n",
    "from nltk.corpus import stopwords\n",
    "from textblob import TextBlob\n",
    "from textblob import Word"
   ]
  },
  {
   "cell_type": "code",
   "execution_count": 47,
   "metadata": {},
   "outputs": [],
   "source": [
    "#lowercase\n",
    "df[\"Quote\"] = df[\"Quote\"].apply(lambda x: \" \".join(x.lower() for x in x.split()))"
   ]
  },
  {
   "cell_type": "code",
   "execution_count": 48,
   "metadata": {},
   "outputs": [],
   "source": [
    "#numerical values\n",
    "df[\"Quote\"] = df[\"Quote\"].str.replace(\"\\d\",\"\")"
   ]
  },
  {
   "cell_type": "code",
   "execution_count": 49,
   "metadata": {},
   "outputs": [],
   "source": [
    "#punctation\n",
    "df[\"Quote\"] = df[\"Quote\"].str.replace(\"[^\\w\\s]\",\"\")"
   ]
  },
  {
   "cell_type": "code",
   "execution_count": 50,
   "metadata": {},
   "outputs": [
    {
     "name": "stderr",
     "output_type": "stream",
     "text": [
      "[nltk_data] Downloading package stopwords to\n",
      "[nltk_data]     C:\\Users\\Asus\\AppData\\Roaming\\nltk_data...\n",
      "[nltk_data]   Package stopwords is already up-to-date!\n"
     ]
    }
   ],
   "source": [
    "#stopwords\n",
    "import nltk\n",
    "nltk.download(\"stopwords\")\n",
    "from nltk.corpus import stopwords\n",
    "sw = stopwords.words(\"english\")\n",
    "df[\"Quote\"] = df[\"Quote\"].apply(lambda x: \" \".join(x for x in x.split() if x not in sw))"
   ]
  },
  {
   "cell_type": "code",
   "execution_count": 51,
   "metadata": {},
   "outputs": [
    {
     "name": "stderr",
     "output_type": "stream",
     "text": [
      "[nltk_data] Downloading package wordnet to\n",
      "[nltk_data]     C:\\Users\\Asus\\AppData\\Roaming\\nltk_data...\n",
      "[nltk_data]   Package wordnet is already up-to-date!\n"
     ]
    }
   ],
   "source": [
    "#lemmatization \n",
    "from textblob import Word\n",
    "nltk.download(\"wordnet\")\n",
    "df[\"Quote\"] = df[\"Quote\"].apply(lambda x: \" \".join([Word(x).lemmatize()]))"
   ]
  },
  {
   "cell_type": "code",
   "execution_count": 52,
   "metadata": {},
   "outputs": [],
   "source": [
    "#word tokenization\n",
    "from nltk.tokenize import word_tokenize\n",
    "df[\"tokens\"] = df[\"Quote\"].apply(lambda x: TextBlob(x).words)"
   ]
  },
  {
   "cell_type": "code",
   "execution_count": 53,
   "metadata": {},
   "outputs": [],
   "source": [
    "#frequency\n",
    "df[\"frequency\"] = df[\"Quote\"].apply(lambda x: len(str(x).split(\" \"))) "
   ]
  },
  {
   "cell_type": "code",
   "execution_count": 72,
   "metadata": {},
   "outputs": [
    {
     "name": "stdout",
     "output_type": "stream",
     "text": [
      "youll realize truly love someone already caused enormous pain enemies never hurt way loved ones people close heart give piercing wound love doubleedged sword heal wound faster sink blade even deeper\n"
     ]
    }
   ],
   "source": [
    "df.groupby(\"frequency\").max()\n",
    "df[df[\"Quote\"].str.contains(\"youll realize\")]\n",
    "longest_comment=df.iloc[90,0]\n",
    "print(longest_comment)"
   ]
  },
  {
   "cell_type": "code",
   "execution_count": 73,
   "metadata": {},
   "outputs": [
    {
     "data": {
      "text/plain": [
       "[('youll', 'NN'),\n",
       " ('realize', 'VB'),\n",
       " ('truly', 'RB'),\n",
       " ('love', 'VB'),\n",
       " ('someone', 'NN'),\n",
       " ('already', 'RB'),\n",
       " ('caused', 'VBD'),\n",
       " ('enormous', 'JJ'),\n",
       " ('pain', 'NN'),\n",
       " ('enemies', 'NNS'),\n",
       " ('never', 'RB'),\n",
       " ('hurt', 'VBP'),\n",
       " ('way', 'NN'),\n",
       " ('loved', 'VBN'),\n",
       " ('ones', 'NNS'),\n",
       " ('people', 'NNS'),\n",
       " ('close', 'RB'),\n",
       " ('heart', 'NN'),\n",
       " ('give', 'NN'),\n",
       " ('piercing', 'NN'),\n",
       " ('wound', 'NN'),\n",
       " ('love', 'VBD'),\n",
       " ('doubleedged', 'VBN'),\n",
       " ('sword', 'NN'),\n",
       " ('heal', 'NN'),\n",
       " ('wound', 'IN'),\n",
       " ('faster', 'JJR'),\n",
       " ('sink', 'NN'),\n",
       " ('blade', 'VBD'),\n",
       " ('even', 'RB'),\n",
       " ('deeper', 'JJR')]"
      ]
     },
     "execution_count": 73,
     "metadata": {},
     "output_type": "execute_result"
    }
   ],
   "source": [
    "TextBlob(longest_comment).tags"
   ]
  },
  {
   "cell_type": "code",
   "execution_count": 74,
   "metadata": {},
   "outputs": [
    {
     "data": {
      "text/html": [
       "<div>\n",
       "<style scoped>\n",
       "    .dataframe tbody tr th:only-of-type {\n",
       "        vertical-align: middle;\n",
       "    }\n",
       "\n",
       "    .dataframe tbody tr th {\n",
       "        vertical-align: top;\n",
       "    }\n",
       "\n",
       "    .dataframe thead th {\n",
       "        text-align: right;\n",
       "    }\n",
       "</style>\n",
       "<table border=\"1\" class=\"dataframe\">\n",
       "  <thead>\n",
       "    <tr style=\"text-align: right;\">\n",
       "      <th></th>\n",
       "      <th>Quote</th>\n",
       "      <th>Character</th>\n",
       "      <th>Anime</th>\n",
       "      <th>logistic</th>\n",
       "      <th>naivebayes</th>\n",
       "      <th>xgboost</th>\n",
       "      <th>tokens</th>\n",
       "      <th>frequency</th>\n",
       "    </tr>\n",
       "  </thead>\n",
       "  <tbody>\n",
       "    <tr>\n",
       "      <th>0</th>\n",
       "      <td>peoples lives dont end die ends lose faith</td>\n",
       "      <td>Itachi Uchiha</td>\n",
       "      <td>Naruto</td>\n",
       "      <td>Haikyuu</td>\n",
       "      <td>Haikyuu</td>\n",
       "      <td>One Piece</td>\n",
       "      <td>[peoples, lives, dont, end, die, ends, lose, f...</td>\n",
       "      <td>8</td>\n",
       "    </tr>\n",
       "    <tr>\n",
       "      <th>1</th>\n",
       "      <td>dont take risks cant create future</td>\n",
       "      <td>Monkey D Luffy</td>\n",
       "      <td>One Piece</td>\n",
       "      <td>One Piece</td>\n",
       "      <td>One Piece</td>\n",
       "      <td>One Piece</td>\n",
       "      <td>[dont, take, risks, cant, create, future]</td>\n",
       "      <td>6</td>\n",
       "    </tr>\n",
       "    <tr>\n",
       "      <th>2</th>\n",
       "      <td>dont like destiny dont accept</td>\n",
       "      <td>Naruto Uzumaki</td>\n",
       "      <td>Naruto</td>\n",
       "      <td>Naruto</td>\n",
       "      <td>Naruto</td>\n",
       "      <td>Naruto</td>\n",
       "      <td>[dont, like, destiny, dont, accept]</td>\n",
       "      <td>5</td>\n",
       "    </tr>\n",
       "    <tr>\n",
       "      <th>3</th>\n",
       "      <td>give thats game ends</td>\n",
       "      <td>Mitsuyoshi Anzai</td>\n",
       "      <td>Slam Dunk</td>\n",
       "      <td>Haikyuu</td>\n",
       "      <td>Haikyuu</td>\n",
       "      <td>Slam Dunk</td>\n",
       "      <td>[give, thats, game, ends]</td>\n",
       "      <td>4</td>\n",
       "    </tr>\n",
       "    <tr>\n",
       "      <th>4</th>\n",
       "      <td>live day die control canand fly free</td>\n",
       "      <td>Deneil Young</td>\n",
       "      <td>Uchuu Kyoudai or Space Brothers</td>\n",
       "      <td>Attack on Titan</td>\n",
       "      <td>Attack on Titan</td>\n",
       "      <td>Fairy Tail</td>\n",
       "      <td>[live, day, die, control, canand, fly, free]</td>\n",
       "      <td>7</td>\n",
       "    </tr>\n",
       "  </tbody>\n",
       "</table>\n",
       "</div>"
      ],
      "text/plain": [
       "                                        Quote         Character  \\\n",
       "0  peoples lives dont end die ends lose faith     Itachi Uchiha   \n",
       "1          dont take risks cant create future    Monkey D Luffy   \n",
       "2               dont like destiny dont accept    Naruto Uzumaki   \n",
       "3                        give thats game ends  Mitsuyoshi Anzai   \n",
       "4        live day die control canand fly free      Deneil Young   \n",
       "\n",
       "                             Anime         logistic       naivebayes  \\\n",
       "0                           Naruto          Haikyuu          Haikyuu   \n",
       "1                        One Piece        One Piece        One Piece   \n",
       "2                           Naruto           Naruto           Naruto   \n",
       "3                        Slam Dunk          Haikyuu          Haikyuu   \n",
       "4  Uchuu Kyoudai or Space Brothers  Attack on Titan  Attack on Titan   \n",
       "\n",
       "      xgboost                                             tokens  frequency  \n",
       "0   One Piece  [peoples, lives, dont, end, die, ends, lose, f...          8  \n",
       "1   One Piece          [dont, take, risks, cant, create, future]          6  \n",
       "2      Naruto                [dont, like, destiny, dont, accept]          5  \n",
       "3   Slam Dunk                          [give, thats, game, ends]          4  \n",
       "4  Fairy Tail       [live, day, die, control, canand, fly, free]          7  "
      ]
     },
     "execution_count": 74,
     "metadata": {},
     "output_type": "execute_result"
    }
   ],
   "source": [
    "df.head()"
   ]
  },
  {
   "cell_type": "markdown",
   "metadata": {},
   "source": [
    "# Data Visualization "
   ]
  },
  {
   "cell_type": "code",
   "execution_count": 75,
   "metadata": {},
   "outputs": [
    {
     "name": "stdout",
     "output_type": "stream",
     "text": [
      "Requirement already satisfied: wordcloud in d:\\spyde\\lib\\site-packages (1.8.1)\n",
      "Requirement already satisfied: numpy>=1.6.1 in d:\\spyde\\lib\\site-packages (from wordcloud) (1.19.2)\n",
      "Requirement already satisfied: pillow in d:\\spyde\\lib\\site-packages (from wordcloud) (8.0.1)\n",
      "Requirement already satisfied: matplotlib in d:\\spyde\\lib\\site-packages (from wordcloud) (3.3.2)\n",
      "Requirement already satisfied: python-dateutil>=2.1 in d:\\spyde\\lib\\site-packages (from matplotlib->wordcloud) (2.8.1)\n",
      "Requirement already satisfied: pyparsing!=2.0.4,!=2.1.2,!=2.1.6,>=2.0.3 in d:\\spyde\\lib\\site-packages (from matplotlib->wordcloud) (2.4.7)\n",
      "Requirement already satisfied: cycler>=0.10 in d:\\spyde\\lib\\site-packages (from matplotlib->wordcloud) (0.10.0)\n",
      "Requirement already satisfied: kiwisolver>=1.0.1 in d:\\spyde\\lib\\site-packages (from matplotlib->wordcloud) (1.3.0)\n",
      "Requirement already satisfied: certifi>=2020.06.20 in d:\\spyde\\lib\\site-packages (from matplotlib->wordcloud) (2022.6.15)\n",
      "Requirement already satisfied: six>=1.5 in d:\\spyde\\lib\\site-packages (from python-dateutil>=2.1->matplotlib->wordcloud) (1.15.0)\n"
     ]
    }
   ],
   "source": [
    "!pip install wordcloud\n",
    "\n",
    "from wordcloud import WordCloud\n",
    "from wordcloud import STOPWORDS"
   ]
  },
  {
   "cell_type": "code",
   "execution_count": 76,
   "metadata": {},
   "outputs": [],
   "source": [
    "# we need convert all reviews to single text \n",
    "\n",
    "text = \" \".join(i for i in df.Quote)"
   ]
  },
  {
   "cell_type": "code",
   "execution_count": 79,
   "metadata": {},
   "outputs": [
    {
     "data": {
      "image/png": "[encoded data removed]",
      "text/plain": [
       "<Figure size 792x792 with 1 Axes>"
      ]
     },
     "metadata": {
      "needs_background": "light"
     },
     "output_type": "display_data"
    }
   ],
   "source": [
    "wordcloud = WordCloud(\n",
    "    background_color=\"#6B5B95\",\n",
    "    colormap=\"Set2\",\n",
    "    collocations=False).generate(text)\n",
    "\n",
    "plt.figure(figsize=[11,11])\n",
    "plt.imshow(wordcloud, interpolation=\"bilinear\")\n",
    "plt.axis(\"off\")\n",
    "plt.title(\"The Quotes About Animes\")\n",
    "plt.show()"
   ]
  },
  {
   "cell_type": "code",
   "execution_count": 89,
   "metadata": {},
   "outputs": [
    {
     "name": "stdout",
     "output_type": "stream",
     "text": [
      "\n",
      " \n",
      " 36 \n",
      " 34 \n",
      " 22 \n",
      " 13 \n",
      " 13 \n",
      " 11 \n",
      " 10 \n",
      " 10 \n",
      " 9\n"
     ]
    }
   ],
   "source": [
    "print(\"\\n\",\n",
    "      \"\\n\",text.count(\"thing\"),\n",
    "      \"\\n\",text.count(\"one\"),\n",
    "      \"\\n\",text.count(\"dont\"),\n",
    "      \"\\n\",text.count(\"life\"),\n",
    "      \"\\n\",text.count(\"people\"),\n",
    "      \"\\n\",text.count(\"something\"),\n",
    "      \"\\n\",text.count(\"accept\"),\n",
    "      \"\\n\",text.count(\"lose\"),\n",
    "      \"\\n\",text.count(\"world\"),\n",
    "     )"
   ]
  },
  {
   "cell_type": "code",
   "execution_count": 90,
   "metadata": {},
   "outputs": [],
   "source": [
    "data = {\n",
    "    \"title\": [\"thing\", \"one\" ,\"dont\", \"life\", \"people\", \"something\", \n",
    "              \"accept\",\"lose\",\"world\"],\n",
    "    \"count\": [36, 34 ,22, 13, 13, 11, 10, 10, 9],\n",
    "}"
   ]
  },
  {
   "cell_type": "code",
   "execution_count": 91,
   "metadata": {},
   "outputs": [
    {
     "data": {
      "text/html": [
       "<div>\n",
       "<style scoped>\n",
       "    .dataframe tbody tr th:only-of-type {\n",
       "        vertical-align: middle;\n",
       "    }\n",
       "\n",
       "    .dataframe tbody tr th {\n",
       "        vertical-align: top;\n",
       "    }\n",
       "\n",
       "    .dataframe thead th {\n",
       "        text-align: right;\n",
       "    }\n",
       "</style>\n",
       "<table border=\"1\" class=\"dataframe\">\n",
       "  <thead>\n",
       "    <tr style=\"text-align: right;\">\n",
       "      <th></th>\n",
       "      <th>title</th>\n",
       "      <th>count</th>\n",
       "    </tr>\n",
       "  </thead>\n",
       "  <tbody>\n",
       "    <tr>\n",
       "      <th>0</th>\n",
       "      <td>thing</td>\n",
       "      <td>36</td>\n",
       "    </tr>\n",
       "    <tr>\n",
       "      <th>1</th>\n",
       "      <td>one</td>\n",
       "      <td>34</td>\n",
       "    </tr>\n",
       "    <tr>\n",
       "      <th>2</th>\n",
       "      <td>dont</td>\n",
       "      <td>22</td>\n",
       "    </tr>\n",
       "    <tr>\n",
       "      <th>3</th>\n",
       "      <td>life</td>\n",
       "      <td>13</td>\n",
       "    </tr>\n",
       "    <tr>\n",
       "      <th>4</th>\n",
       "      <td>people</td>\n",
       "      <td>13</td>\n",
       "    </tr>\n",
       "    <tr>\n",
       "      <th>5</th>\n",
       "      <td>something</td>\n",
       "      <td>11</td>\n",
       "    </tr>\n",
       "    <tr>\n",
       "      <th>6</th>\n",
       "      <td>accept</td>\n",
       "      <td>10</td>\n",
       "    </tr>\n",
       "    <tr>\n",
       "      <th>7</th>\n",
       "      <td>lose</td>\n",
       "      <td>10</td>\n",
       "    </tr>\n",
       "    <tr>\n",
       "      <th>8</th>\n",
       "      <td>world</td>\n",
       "      <td>9</td>\n",
       "    </tr>\n",
       "  </tbody>\n",
       "</table>\n",
       "</div>"
      ],
      "text/plain": [
       "       title  count\n",
       "0      thing     36\n",
       "1        one     34\n",
       "2       dont     22\n",
       "3       life     13\n",
       "4     people     13\n",
       "5  something     11\n",
       "6     accept     10\n",
       "7       lose     10\n",
       "8      world      9"
      ]
     },
     "execution_count": 91,
     "metadata": {},
     "output_type": "execute_result"
    }
   ],
   "source": [
    "data = pd.DataFrame(data)\n",
    "data.head(10)"
   ]
  },
  {
   "cell_type": "code",
   "execution_count": 95,
   "metadata": {},
   "outputs": [
    {
     "data": {
      "image/png": "[encoded data removed]",
      "text/plain": [
       "<Figure size 792x576 with 1 Axes>"
      ]
     },
     "metadata": {},
     "output_type": "display_data"
    }
   ],
   "source": [
    "sns.set_style(\"whitegrid\")\n",
    "sns.despine(left=True, bottom=True)\n",
    "sns.set_context(\"poster\", font_scale = .5, rc={\"grid.linewidth\": 0.9})\n",
    "sns.set(rc = {'figure.figsize':(11,8)})\n",
    "sns.barplot(data=data, x=\"title\", y=\"count\").set(title=\"Most Common Words:\");"
   ]
  },
  {
   "cell_type": "code",
   "execution_count": 203,
   "metadata": {
    "scrolled": true
   },
   "outputs": [
    {
     "data": {
      "image/png": "[encoded data removed]",
      "text/plain": [
       "<Figure size 864x648 with 1 Axes>"
      ]
     },
     "metadata": {},
     "output_type": "display_data"
    }
   ],
   "source": [
    "fig = plt.figure(figsize =(12, 9))\n",
    "myexplode = [0.1, 0, 0, 0,0,0,0,0,0] \n",
    "plt.pie(data[\"count\"], labels = data[\"title\"], autopct='%1.2f%%', explode=myexplode)\n",
    "plt.title(\"Most Common Words\")\n",
    "\n",
    "plt.show()"
   ]
  },
  {
   "cell_type": "markdown",
   "metadata": {},
   "source": [
    "# Machine Learning"
   ]
  },
  {
   "cell_type": "code",
   "execution_count": 205,
   "metadata": {},
   "outputs": [],
   "source": [
    "#train test split\n",
    "from sklearn.model_selection import train_test_split\n",
    "X = df.Quote\n",
    "y = df.Anime\n",
    "X_train, X_test, y_train, y_test = train_test_split(X, y, test_size=0.3, random_state = 42)"
   ]
  },
  {
   "cell_type": "code",
   "execution_count": 206,
   "metadata": {
    "scrolled": true
   },
   "outputs": [
    {
     "data": {
      "text/plain": [
       "((84,), (36,), (84,), (36,))"
      ]
     },
     "execution_count": 206,
     "metadata": {},
     "output_type": "execute_result"
    }
   ],
   "source": [
    "X_train.shape,X_test.shape,y_train.shape,y_test.shape"
   ]
  },
  {
   "cell_type": "markdown",
   "metadata": {},
   "source": [
    "# Applying Logistic Regression"
   ]
  },
  {
   "cell_type": "code",
   "execution_count": 207,
   "metadata": {},
   "outputs": [
    {
     "name": "stdout",
     "output_type": "stream",
     "text": [
      "Accuracy is : 0.1388888888888889\n"
     ]
    }
   ],
   "source": [
    "from sklearn.linear_model import LogisticRegression\n",
    "from sklearn.pipeline import Pipeline\n",
    "from sklearn.feature_extraction.text import TfidfTransformer\n",
    "\n",
    "lr = Pipeline([('vect', CountVectorizer()),\n",
    "               ('tfidf', TfidfTransformer()),\n",
    "               ('clf', LogisticRegression()),\n",
    "              ])\n",
    "\n",
    "lr.fit(X_train,y_train)\n",
    "y_pred1 = lr.predict(X_test)\n",
    "\n",
    "print(f\"Accuracy is : {accuracy_score(y_pred1,y_test)}\")"
   ]
  },
  {
   "cell_type": "markdown",
   "metadata": {},
   "source": [
    "# Aplyying Naive Bayes"
   ]
  },
  {
   "cell_type": "code",
   "execution_count": 208,
   "metadata": {},
   "outputs": [
    {
     "name": "stdout",
     "output_type": "stream",
     "text": [
      "accuracy 0.1388888888888889\n"
     ]
    }
   ],
   "source": [
    "from sklearn.naive_bayes import MultinomialNB\n",
    "\n",
    "\n",
    "naivebayes = Pipeline([('vect', CountVectorizer()),\n",
    "               ('tfidf', TfidfTransformer()),\n",
    "               ('clf', MultinomialNB()),\n",
    "              ])\n",
    "naivebayes.fit(X_train, y_train)\n",
    "\n",
    "y_pred = naivebayes.predict(X_test)\n",
    "\n",
    "print(f'accuracy {accuracy_score(y_pred,y_test)}')"
   ]
  },
  {
   "cell_type": "markdown",
   "metadata": {},
   "source": [
    "# Applying XGboost"
   ]
  },
  {
   "cell_type": "code",
   "execution_count": 209,
   "metadata": {},
   "outputs": [
    {
     "name": "stderr",
     "output_type": "stream",
     "text": [
      "D:\\spyde\\lib\\site-packages\\xgboost\\sklearn.py:1146: UserWarning: The use of label encoder in XGBClassifier is deprecated and will be removed in a future release. To remove this warning, do the following: 1) Pass option use_label_encoder=False when constructing XGBClassifier object; and 2) Encode your labels (y) as integers starting with 0, i.e. 0, 1, 2, ..., [num_class - 1].\n",
      "  warnings.warn(label_encoder_deprecation_msg, UserWarning)\n"
     ]
    },
    {
     "name": "stdout",
     "output_type": "stream",
     "text": [
      "[15:25:19] WARNING: C:/Users/Administrator/workspace/xgboost-win64_release_1.4.0/src/learner.cc:1095: Starting in XGBoost 1.3.0, the default evaluation metric used with the objective 'multi:softprob' was changed from 'merror' to 'mlogloss'. Explicitly set eval_metric if you'd like to restore the old behavior.\n",
      "accuracy 0.1111111111111111\n"
     ]
    }
   ],
   "source": [
    "from xgboost import XGBClassifier\n",
    "\n",
    "xgboost = Pipeline([('vect', CountVectorizer()),\n",
    "               ('tfidf', TfidfTransformer()),\n",
    "               ('clf', XGBClassifier()),\n",
    "              ])\n",
    "xgboost.fit(X_train, y_train)\n",
    "\n",
    "y_pred = xgboost.predict(X_test)\n",
    "\n",
    "print(f'accuracy {accuracy_score(y_pred,y_test)}')"
   ]
  },
  {
   "cell_type": "code",
   "execution_count": 210,
   "metadata": {},
   "outputs": [],
   "source": [
    "df[\"logistic\"] = lr.predict(df[\"Quote\"])\n",
    "df[\"naivebayes\"] = naivebayes.predict(df[\"Quote\"])\n",
    "df[\"xgboost\"] = xgboost.predict(df[\"Quote\"])"
   ]
  },
  {
   "cell_type": "code",
   "execution_count": 232,
   "metadata": {},
   "outputs": [
    {
     "data": {
      "text/html": [
       "<div>\n",
       "<style scoped>\n",
       "    .dataframe tbody tr th:only-of-type {\n",
       "        vertical-align: middle;\n",
       "    }\n",
       "\n",
       "    .dataframe tbody tr th {\n",
       "        vertical-align: top;\n",
       "    }\n",
       "\n",
       "    .dataframe thead th {\n",
       "        text-align: right;\n",
       "    }\n",
       "</style>\n",
       "<table border=\"1\" class=\"dataframe\">\n",
       "  <thead>\n",
       "    <tr style=\"text-align: right;\">\n",
       "      <th></th>\n",
       "      <th>Quote</th>\n",
       "      <th>Character</th>\n",
       "      <th>Anime</th>\n",
       "      <th>logistic</th>\n",
       "      <th>naivebayes</th>\n",
       "      <th>xgboost</th>\n",
       "      <th>tokens</th>\n",
       "      <th>frequency</th>\n",
       "    </tr>\n",
       "  </thead>\n",
       "  <tbody>\n",
       "    <tr>\n",
       "      <th>0</th>\n",
       "      <td>peoples lives dont end die ends lose faith</td>\n",
       "      <td>Itachi Uchiha</td>\n",
       "      <td>Naruto</td>\n",
       "      <td>One Piece</td>\n",
       "      <td>One Piece</td>\n",
       "      <td>Naruto</td>\n",
       "      <td>[peoples, lives, dont, end, die, ends, lose, f...</td>\n",
       "      <td>8</td>\n",
       "    </tr>\n",
       "    <tr>\n",
       "      <th>1</th>\n",
       "      <td>dont take risks cant create future</td>\n",
       "      <td>Monkey D Luffy</td>\n",
       "      <td>One Piece</td>\n",
       "      <td>One Piece</td>\n",
       "      <td>One Piece</td>\n",
       "      <td>One Piece</td>\n",
       "      <td>[dont, take, risks, cant, create, future]</td>\n",
       "      <td>6</td>\n",
       "    </tr>\n",
       "    <tr>\n",
       "      <th>2</th>\n",
       "      <td>dont like destiny dont accept</td>\n",
       "      <td>Naruto Uzumaki</td>\n",
       "      <td>Naruto</td>\n",
       "      <td>Naruto</td>\n",
       "      <td>Naruto</td>\n",
       "      <td>Naruto</td>\n",
       "      <td>[dont, like, destiny, dont, accept]</td>\n",
       "      <td>5</td>\n",
       "    </tr>\n",
       "    <tr>\n",
       "      <th>3</th>\n",
       "      <td>give thats game ends</td>\n",
       "      <td>Mitsuyoshi Anzai</td>\n",
       "      <td>Slam Dunk</td>\n",
       "      <td>Haikyuu</td>\n",
       "      <td>Attack on Titan</td>\n",
       "      <td>Haikyuu</td>\n",
       "      <td>[give, thats, game, ends]</td>\n",
       "      <td>4</td>\n",
       "    </tr>\n",
       "    <tr>\n",
       "      <th>4</th>\n",
       "      <td>live day die control canand fly free</td>\n",
       "      <td>Deneil Young</td>\n",
       "      <td>Uchuu Kyoudai or Space Brothers</td>\n",
       "      <td>Haikyuu</td>\n",
       "      <td>Haikyuu</td>\n",
       "      <td>Haikyuu</td>\n",
       "      <td>[live, day, die, control, canand, fly, free]</td>\n",
       "      <td>7</td>\n",
       "    </tr>\n",
       "    <tr>\n",
       "      <th>5</th>\n",
       "      <td>forgetting like wound wound may heal already l...</td>\n",
       "      <td>Monkey D Luffy</td>\n",
       "      <td>One Piece</td>\n",
       "      <td>One Piece</td>\n",
       "      <td>One Piece</td>\n",
       "      <td>One Piece</td>\n",
       "      <td>[forgetting, like, wound, wound, may, heal, al...</td>\n",
       "      <td>9</td>\n",
       "    </tr>\n",
       "    <tr>\n",
       "      <th>6</th>\n",
       "      <td>pathetic give something even give shot</td>\n",
       "      <td>Reiko Mikami</td>\n",
       "      <td>Another</td>\n",
       "      <td>Haikyuu</td>\n",
       "      <td>Haikyuu</td>\n",
       "      <td>Haikyuu</td>\n",
       "      <td>[pathetic, give, something, even, give, shot]</td>\n",
       "      <td>6</td>\n",
       "    </tr>\n",
       "    <tr>\n",
       "      <th>7</th>\n",
       "      <td>dont share someones pain never understand</td>\n",
       "      <td>Nagato</td>\n",
       "      <td>Naruto</td>\n",
       "      <td>Naruto</td>\n",
       "      <td>Naruto</td>\n",
       "      <td>Naruto</td>\n",
       "      <td>[dont, share, someones, pain, never, understand]</td>\n",
       "      <td>6</td>\n",
       "    </tr>\n",
       "    <tr>\n",
       "      <th>8</th>\n",
       "      <td>whatever lose youll find throw away youll neve...</td>\n",
       "      <td>Himura Kenshin</td>\n",
       "      <td>Rurouni Kenshin</td>\n",
       "      <td>Rurouni Kenshin</td>\n",
       "      <td>Attack on Titan</td>\n",
       "      <td>Haikyuu</td>\n",
       "      <td>[whatever, lose, youll, find, throw, away, you...</td>\n",
       "      <td>10</td>\n",
       "    </tr>\n",
       "    <tr>\n",
       "      <th>9</th>\n",
       "      <td>dont know tomorrow holds thats live everything...</td>\n",
       "      <td>Natsu Dragneel</td>\n",
       "      <td>Fairy Tail</td>\n",
       "      <td>Fairy Tail</td>\n",
       "      <td>Fairy Tail</td>\n",
       "      <td>Fairy Tail</td>\n",
       "      <td>[dont, know, tomorrow, holds, thats, live, eve...</td>\n",
       "      <td>9</td>\n",
       "    </tr>\n",
       "    <tr>\n",
       "      <th>10</th>\n",
       "      <td>apologize monster anyone ever apologized turni...</td>\n",
       "      <td>Juuzou Suzuya</td>\n",
       "      <td>Tokyo Ghoul</td>\n",
       "      <td>Haikyuu</td>\n",
       "      <td>Haikyuu</td>\n",
       "      <td>Haikyuu</td>\n",
       "      <td>[apologize, monster, anyone, ever, apologized,...</td>\n",
       "      <td>7</td>\n",
       "    </tr>\n",
       "    <tr>\n",
       "      <th>11</th>\n",
       "      <td>people become stronger memories cant forget</td>\n",
       "      <td>Tsunade</td>\n",
       "      <td>Naruto</td>\n",
       "      <td>Attack on Titan</td>\n",
       "      <td>Attack on Titan</td>\n",
       "      <td>Attack on Titan</td>\n",
       "      <td>[people, become, stronger, memories, cant, for...</td>\n",
       "      <td>6</td>\n",
       "    </tr>\n",
       "    <tr>\n",
       "      <th>12</th>\n",
       "      <td>ill leave tomorrows problems tomorrows</td>\n",
       "      <td>Saitama</td>\n",
       "      <td>One Punch Man</td>\n",
       "      <td>Haikyuu</td>\n",
       "      <td>Attack on Titan</td>\n",
       "      <td>Haikyuu</td>\n",
       "      <td>[ill, leave, tomorrows, problems, tomorrows]</td>\n",
       "      <td>5</td>\n",
       "    </tr>\n",
       "    <tr>\n",
       "      <th>13</th>\n",
       "      <td>wanna make people dream youve gotta start beli...</td>\n",
       "      <td>Seiya Kanie</td>\n",
       "      <td>Amagi Brilliant Park</td>\n",
       "      <td>Attack on Titan</td>\n",
       "      <td>Attack on Titan</td>\n",
       "      <td>Attack on Titan</td>\n",
       "      <td>[wan, na, make, people, dream, youve, got, ta,...</td>\n",
       "      <td>9</td>\n",
       "    </tr>\n",
       "    <tr>\n",
       "      <th>14</th>\n",
       "      <td>lonely painful getting hurt</td>\n",
       "      <td>Monkey D Luffy</td>\n",
       "      <td>One Piece</td>\n",
       "      <td>One Piece</td>\n",
       "      <td>One Piece</td>\n",
       "      <td>Haikyuu</td>\n",
       "      <td>[lonely, painful, getting, hurt]</td>\n",
       "      <td>4</td>\n",
       "    </tr>\n",
       "    <tr>\n",
       "      <th>15</th>\n",
       "      <td>theres shame falling true shame stand</td>\n",
       "      <td>Shintar Midorima</td>\n",
       "      <td>Kuroko s Basketball</td>\n",
       "      <td>Haikyuu</td>\n",
       "      <td>Haikyuu</td>\n",
       "      <td>Haikyuu</td>\n",
       "      <td>[theres, shame, falling, true, shame, stand]</td>\n",
       "      <td>6</td>\n",
       "    </tr>\n",
       "    <tr>\n",
       "      <th>16</th>\n",
       "      <td>simplicity easiest path true beauty</td>\n",
       "      <td>Seishuu Handa</td>\n",
       "      <td>Barakamon</td>\n",
       "      <td>Haikyuu</td>\n",
       "      <td>Haikyuu</td>\n",
       "      <td>Haikyuu</td>\n",
       "      <td>[simplicity, easiest, path, true, beauty]</td>\n",
       "      <td>5</td>\n",
       "    </tr>\n",
       "    <tr>\n",
       "      <th>17</th>\n",
       "      <td>cant something dont focus</td>\n",
       "      <td>Shiroe</td>\n",
       "      <td>Log Horizon</td>\n",
       "      <td>Naruto</td>\n",
       "      <td>Naruto</td>\n",
       "      <td>Naruto</td>\n",
       "      <td>[cant, something, dont, focus]</td>\n",
       "      <td>4</td>\n",
       "    </tr>\n",
       "    <tr>\n",
       "      <th>18</th>\n",
       "      <td>giving kills people people reject giving final...</td>\n",
       "      <td>Alucard</td>\n",
       "      <td>Hellsing</td>\n",
       "      <td>Attack on Titan</td>\n",
       "      <td>Attack on Titan</td>\n",
       "      <td>Attack on Titan</td>\n",
       "      <td>[giving, kills, people, people, reject, giving...</td>\n",
       "      <td>11</td>\n",
       "    </tr>\n",
       "    <tr>\n",
       "      <th>19</th>\n",
       "      <td>die anytime living takes true courage</td>\n",
       "      <td>Kenshin Himura</td>\n",
       "      <td>Rurouni Kenshin: Meiji Kenkaku Romantan</td>\n",
       "      <td>Haikyuu</td>\n",
       "      <td>Attack on Titan</td>\n",
       "      <td>Haikyuu</td>\n",
       "      <td>[die, anytime, living, takes, true, courage]</td>\n",
       "      <td>6</td>\n",
       "    </tr>\n",
       "    <tr>\n",
       "      <th>20</th>\n",
       "      <td>every journey begins single step patience</td>\n",
       "      <td>Milly Thompson</td>\n",
       "      <td>Trigun</td>\n",
       "      <td>Trigun</td>\n",
       "      <td>Trigun</td>\n",
       "      <td>Haikyuu</td>\n",
       "      <td>[every, journey, begins, single, step, patience]</td>\n",
       "      <td>6</td>\n",
       "    </tr>\n",
       "    <tr>\n",
       "      <th>21</th>\n",
       "      <td>doesnt good pretend cant see whats going</td>\n",
       "      <td>Yuuya Mochizuki</td>\n",
       "      <td>Another</td>\n",
       "      <td>Haikyuu</td>\n",
       "      <td>Haikyuu</td>\n",
       "      <td>Haikyuu</td>\n",
       "      <td>[doesnt, good, pretend, cant, see, whats, going]</td>\n",
       "      <td>7</td>\n",
       "    </tr>\n",
       "    <tr>\n",
       "      <th>22</th>\n",
       "      <td>weak nothing ashamed staying weak</td>\n",
       "      <td>Fuegoleon Vermillion</td>\n",
       "      <td>Black Clover</td>\n",
       "      <td>Haikyuu</td>\n",
       "      <td>Haikyuu</td>\n",
       "      <td>Haikyuu</td>\n",
       "      <td>[weak, nothing, ashamed, staying, weak]</td>\n",
       "      <td>5</td>\n",
       "    </tr>\n",
       "    <tr>\n",
       "      <th>23</th>\n",
       "      <td>act necessarily compassion true compassion som...</td>\n",
       "      <td>Hinata Miyake</td>\n",
       "      <td>A Place Further than the Universe</td>\n",
       "      <td>Haikyuu</td>\n",
       "      <td>Haikyuu</td>\n",
       "      <td>Haikyuu</td>\n",
       "      <td>[act, necessarily, compassion, true, compassio...</td>\n",
       "      <td>8</td>\n",
       "    </tr>\n",
       "    <tr>\n",
       "      <th>24</th>\n",
       "      <td>dropout beat genius hard work</td>\n",
       "      <td>Rock Lee</td>\n",
       "      <td>Naruto</td>\n",
       "      <td>One Piece</td>\n",
       "      <td>One Piece</td>\n",
       "      <td>Haikyuu</td>\n",
       "      <td>[dropout, beat, genius, hard, work]</td>\n",
       "      <td>5</td>\n",
       "    </tr>\n",
       "    <tr>\n",
       "      <th>25</th>\n",
       "      <td>reject common sense make impossible possible</td>\n",
       "      <td>Simon</td>\n",
       "      <td>Tengen Toppa Gurren Lagann</td>\n",
       "      <td>Attack on Titan</td>\n",
       "      <td>Attack on Titan</td>\n",
       "      <td>Haikyuu</td>\n",
       "      <td>[reject, common, sense, make, impossible, poss...</td>\n",
       "      <td>6</td>\n",
       "    </tr>\n",
       "    <tr>\n",
       "      <th>26</th>\n",
       "      <td>whatever lose youll find throw away youll neve...</td>\n",
       "      <td>Kenshin Himura</td>\n",
       "      <td>Rurouni Kenshin Meiji Kenkaku Romantan</td>\n",
       "      <td>Rurouni Kenshin</td>\n",
       "      <td>Attack on Titan</td>\n",
       "      <td>Haikyuu</td>\n",
       "      <td>[whatever, lose, youll, find, throw, away, you...</td>\n",
       "      <td>10</td>\n",
       "    </tr>\n",
       "    <tr>\n",
       "      <th>27</th>\n",
       "      <td>really want strong stop caring surrounding thinks</td>\n",
       "      <td>Saitama</td>\n",
       "      <td>One Punch Man</td>\n",
       "      <td>Attack on Titan</td>\n",
       "      <td>Attack on Titan</td>\n",
       "      <td>Haikyuu</td>\n",
       "      <td>[really, want, strong, stop, caring, surroundi...</td>\n",
       "      <td>7</td>\n",
       "    </tr>\n",
       "    <tr>\n",
       "      <th>28</th>\n",
       "      <td>vision eyes see image brain comprehends</td>\n",
       "      <td>Touko Aozaki</td>\n",
       "      <td>The Garden of Sinners Kara no Ky kai</td>\n",
       "      <td>Haikyuu</td>\n",
       "      <td>Haikyuu</td>\n",
       "      <td>Haikyuu</td>\n",
       "      <td>[vision, eyes, see, image, brain, comprehends]</td>\n",
       "      <td>6</td>\n",
       "    </tr>\n",
       "    <tr>\n",
       "      <th>29</th>\n",
       "      <td>sometimes people mean dont fight mean mean hol...</td>\n",
       "      <td>Hinata Miyake</td>\n",
       "      <td>A Place Further than the Universe</td>\n",
       "      <td>Attack on Titan</td>\n",
       "      <td>Attack on Titan</td>\n",
       "      <td>Attack on Titan</td>\n",
       "      <td>[sometimes, people, mean, dont, fight, mean, m...</td>\n",
       "      <td>10</td>\n",
       "    </tr>\n",
       "    <tr>\n",
       "      <th>30</th>\n",
       "      <td>ticket future always open</td>\n",
       "      <td>Vash The Stampede</td>\n",
       "      <td>Trigun</td>\n",
       "      <td>Attack on Titan</td>\n",
       "      <td>Attack on Titan</td>\n",
       "      <td>Haikyuu</td>\n",
       "      <td>[ticket, future, always, open]</td>\n",
       "      <td>4</td>\n",
       "    </tr>\n",
       "    <tr>\n",
       "      <th>31</th>\n",
       "      <td>hard work worthless dont believe</td>\n",
       "      <td>Naruto Uzumaki</td>\n",
       "      <td>Naruto</td>\n",
       "      <td>Naruto</td>\n",
       "      <td>Naruto</td>\n",
       "      <td>Naruto</td>\n",
       "      <td>[hard, work, worthless, dont, believe]</td>\n",
       "      <td>5</td>\n",
       "    </tr>\n",
       "    <tr>\n",
       "      <th>32</th>\n",
       "      <td>place someone still thinks place call home</td>\n",
       "      <td>Jiraiya</td>\n",
       "      <td>Naruto</td>\n",
       "      <td>Naruto</td>\n",
       "      <td>Naruto</td>\n",
       "      <td>Haikyuu</td>\n",
       "      <td>[place, someone, still, thinks, place, call, h...</td>\n",
       "      <td>7</td>\n",
       "    </tr>\n",
       "    <tr>\n",
       "      <th>33</th>\n",
       "      <td>life comes cost wouldnt arrogant die youve rep...</td>\n",
       "      <td>Yuuji Kazami</td>\n",
       "      <td>The Fruit of Grisaia Gurizaia no Kajitsu</td>\n",
       "      <td>Haikyuu</td>\n",
       "      <td>Haikyuu</td>\n",
       "      <td>Haikyuu</td>\n",
       "      <td>[life, comes, cost, wouldnt, arrogant, die, yo...</td>\n",
       "      <td>9</td>\n",
       "    </tr>\n",
       "    <tr>\n",
       "      <th>34</th>\n",
       "      <td>die anytime living takes true courage</td>\n",
       "      <td>Himura Kenshin</td>\n",
       "      <td>Rurouni Kenshin</td>\n",
       "      <td>Haikyuu</td>\n",
       "      <td>Attack on Titan</td>\n",
       "      <td>Haikyuu</td>\n",
       "      <td>[die, anytime, living, takes, true, courage]</td>\n",
       "      <td>6</td>\n",
       "    </tr>\n",
       "    <tr>\n",
       "      <th>35</th>\n",
       "      <td>every journey begins single step patience</td>\n",
       "      <td>Milly Thompson</td>\n",
       "      <td>Trigun</td>\n",
       "      <td>Trigun</td>\n",
       "      <td>Trigun</td>\n",
       "      <td>Haikyuu</td>\n",
       "      <td>[every, journey, begins, single, step, patience]</td>\n",
       "      <td>6</td>\n",
       "    </tr>\n",
       "    <tr>\n",
       "      <th>36</th>\n",
       "      <td>submit fate thats end</td>\n",
       "      <td>Keiichi Maebara</td>\n",
       "      <td>Higurashi When They Cry</td>\n",
       "      <td>Attack on Titan</td>\n",
       "      <td>Attack on Titan</td>\n",
       "      <td>Haikyuu</td>\n",
       "      <td>[submit, fate, thats, end]</td>\n",
       "      <td>4</td>\n",
       "    </tr>\n",
       "    <tr>\n",
       "      <th>37</th>\n",
       "      <td>moment death humanity value</td>\n",
       "      <td>Archer</td>\n",
       "      <td>Fate Series</td>\n",
       "      <td>Attack on Titan</td>\n",
       "      <td>Attack on Titan</td>\n",
       "      <td>Haikyuu</td>\n",
       "      <td>[moment, death, humanity, value]</td>\n",
       "      <td>4</td>\n",
       "    </tr>\n",
       "    <tr>\n",
       "      <th>38</th>\n",
       "      <td>people cant throw something important away nev...</td>\n",
       "      <td>Armin Arlert</td>\n",
       "      <td>Shingeki no Kyojin Attack on Titan</td>\n",
       "      <td>Attack on Titan</td>\n",
       "      <td>Attack on Titan</td>\n",
       "      <td>Haikyuu</td>\n",
       "      <td>[people, cant, throw, something, important, aw...</td>\n",
       "      <td>10</td>\n",
       "    </tr>\n",
       "    <tr>\n",
       "      <th>39</th>\n",
       "      <td>whatever enjoy fullest secret life</td>\n",
       "      <td>Rider</td>\n",
       "      <td>Fate Zero</td>\n",
       "      <td>Haikyuu</td>\n",
       "      <td>Haikyuu</td>\n",
       "      <td>Haikyuu</td>\n",
       "      <td>[whatever, enjoy, fullest, secret, life]</td>\n",
       "      <td>5</td>\n",
       "    </tr>\n",
       "    <tr>\n",
       "      <th>40</th>\n",
       "      <td>power comes response need desire create need</td>\n",
       "      <td>Goku</td>\n",
       "      <td>Dragon Ball Z</td>\n",
       "      <td>One Piece</td>\n",
       "      <td>One Piece</td>\n",
       "      <td>Haikyuu</td>\n",
       "      <td>[power, comes, response, need, desire, create,...</td>\n",
       "      <td>7</td>\n",
       "    </tr>\n",
       "    <tr>\n",
       "      <th>41</th>\n",
       "      <td>regrets one proud ones life one wish another c...</td>\n",
       "      <td>Saber</td>\n",
       "      <td>Fate Stay Night</td>\n",
       "      <td>Haikyuu</td>\n",
       "      <td>Haikyuu</td>\n",
       "      <td>Attack on Titan</td>\n",
       "      <td>[regrets, one, proud, ones, life, one, wish, a...</td>\n",
       "      <td>9</td>\n",
       "    </tr>\n",
       "    <tr>\n",
       "      <th>42</th>\n",
       "      <td>cant always hold things important letting go g...</td>\n",
       "      <td>Kunio Yaobi</td>\n",
       "      <td>Tamako Market</td>\n",
       "      <td>Naruto</td>\n",
       "      <td>Naruto</td>\n",
       "      <td>Attack on Titan</td>\n",
       "      <td>[cant, always, hold, things, important, lettin...</td>\n",
       "      <td>10</td>\n",
       "    </tr>\n",
       "    <tr>\n",
       "      <th>43</th>\n",
       "      <td>dont like destiny dont accept instead courage ...</td>\n",
       "      <td>Naruto Uzumaki</td>\n",
       "      <td>Naruto</td>\n",
       "      <td>Naruto</td>\n",
       "      <td>Naruto</td>\n",
       "      <td>Naruto</td>\n",
       "      <td>[dont, like, destiny, dont, accept, instead, c...</td>\n",
       "      <td>10</td>\n",
       "    </tr>\n",
       "    <tr>\n",
       "      <th>44</th>\n",
       "      <td>dont beg things else wont get anything</td>\n",
       "      <td>Renton Thurston</td>\n",
       "      <td>Eureka Seven</td>\n",
       "      <td>Naruto</td>\n",
       "      <td>Naruto</td>\n",
       "      <td>Naruto</td>\n",
       "      <td>[dont, beg, things, else, wont, get, anything]</td>\n",
       "      <td>7</td>\n",
       "    </tr>\n",
       "    <tr>\n",
       "      <th>45</th>\n",
       "      <td>refuse let fear control anymore</td>\n",
       "      <td>Maka Albarn</td>\n",
       "      <td>Soul Eater</td>\n",
       "      <td>Haikyuu</td>\n",
       "      <td>Haikyuu</td>\n",
       "      <td>Haikyuu</td>\n",
       "      <td>[refuse, let, fear, control, anymore]</td>\n",
       "      <td>5</td>\n",
       "    </tr>\n",
       "    <tr>\n",
       "      <th>46</th>\n",
       "      <td>cant find reason fight shouldnt fighting</td>\n",
       "      <td>Akame</td>\n",
       "      <td>Akame Ga Kill</td>\n",
       "      <td>Attack on Titan</td>\n",
       "      <td>Attack on Titan</td>\n",
       "      <td>Haikyuu</td>\n",
       "      <td>[cant, find, reason, fight, shouldnt, fighting]</td>\n",
       "      <td>6</td>\n",
       "    </tr>\n",
       "    <tr>\n",
       "      <th>48</th>\n",
       "      <td>people cant throw something important away nev...</td>\n",
       "      <td>Armin Arlelt</td>\n",
       "      <td>Attack on Titan</td>\n",
       "      <td>Attack on Titan</td>\n",
       "      <td>Attack on Titan</td>\n",
       "      <td>Haikyuu</td>\n",
       "      <td>[people, cant, throw, something, important, aw...</td>\n",
       "      <td>10</td>\n",
       "    </tr>\n",
       "    <tr>\n",
       "      <th>49</th>\n",
       "      <td>cant waste time worrying ifs</td>\n",
       "      <td>Ichigo Kurosaki</td>\n",
       "      <td>Bleach</td>\n",
       "      <td>Haikyuu</td>\n",
       "      <td>Haikyuu</td>\n",
       "      <td>Haikyuu</td>\n",
       "      <td>[cant, waste, time, worrying, ifs]</td>\n",
       "      <td>5</td>\n",
       "    </tr>\n",
       "    <tr>\n",
       "      <th>50</th>\n",
       "      <td>fools dont respect past likely repeat</td>\n",
       "      <td>Nico Robin</td>\n",
       "      <td>One Piece</td>\n",
       "      <td>One Piece</td>\n",
       "      <td>One Piece</td>\n",
       "      <td>One Piece</td>\n",
       "      <td>[fools, dont, respect, past, likely, repeat]</td>\n",
       "      <td>6</td>\n",
       "    </tr>\n",
       "  </tbody>\n",
       "</table>\n",
       "</div>"
      ],
      "text/plain": [
       "                                                Quote             Character  \\\n",
       "0          peoples lives dont end die ends lose faith         Itachi Uchiha   \n",
       "1                  dont take risks cant create future        Monkey D Luffy   \n",
       "2                       dont like destiny dont accept        Naruto Uzumaki   \n",
       "3                                give thats game ends      Mitsuyoshi Anzai   \n",
       "4                live day die control canand fly free          Deneil Young   \n",
       "5   forgetting like wound wound may heal already l...        Monkey D Luffy   \n",
       "6              pathetic give something even give shot          Reiko Mikami   \n",
       "7           dont share someones pain never understand                Nagato   \n",
       "8   whatever lose youll find throw away youll neve...        Himura Kenshin   \n",
       "9   dont know tomorrow holds thats live everything...        Natsu Dragneel   \n",
       "10  apologize monster anyone ever apologized turni...         Juuzou Suzuya   \n",
       "11        people become stronger memories cant forget               Tsunade   \n",
       "12             ill leave tomorrows problems tomorrows               Saitama   \n",
       "13  wanna make people dream youve gotta start beli...           Seiya Kanie   \n",
       "14                        lonely painful getting hurt        Monkey D Luffy   \n",
       "15              theres shame falling true shame stand      Shintar Midorima   \n",
       "16                simplicity easiest path true beauty         Seishuu Handa   \n",
       "17                          cant something dont focus                Shiroe   \n",
       "18  giving kills people people reject giving final...               Alucard   \n",
       "19              die anytime living takes true courage        Kenshin Himura   \n",
       "20          every journey begins single step patience        Milly Thompson   \n",
       "21           doesnt good pretend cant see whats going       Yuuya Mochizuki   \n",
       "22                  weak nothing ashamed staying weak  Fuegoleon Vermillion   \n",
       "23  act necessarily compassion true compassion som...         Hinata Miyake   \n",
       "24                      dropout beat genius hard work              Rock Lee   \n",
       "25       reject common sense make impossible possible                 Simon   \n",
       "26  whatever lose youll find throw away youll neve...        Kenshin Himura   \n",
       "27  really want strong stop caring surrounding thinks               Saitama   \n",
       "28            vision eyes see image brain comprehends          Touko Aozaki   \n",
       "29  sometimes people mean dont fight mean mean hol...         Hinata Miyake   \n",
       "30                          ticket future always open     Vash The Stampede   \n",
       "31                   hard work worthless dont believe        Naruto Uzumaki   \n",
       "32         place someone still thinks place call home               Jiraiya   \n",
       "33  life comes cost wouldnt arrogant die youve rep...          Yuuji Kazami   \n",
       "34              die anytime living takes true courage        Himura Kenshin   \n",
       "35          every journey begins single step patience        Milly Thompson   \n",
       "36                              submit fate thats end       Keiichi Maebara   \n",
       "37                        moment death humanity value                Archer   \n",
       "38  people cant throw something important away nev...          Armin Arlert   \n",
       "39                 whatever enjoy fullest secret life                 Rider   \n",
       "40       power comes response need desire create need                  Goku   \n",
       "41  regrets one proud ones life one wish another c...                 Saber   \n",
       "42  cant always hold things important letting go g...           Kunio Yaobi   \n",
       "43  dont like destiny dont accept instead courage ...        Naruto Uzumaki   \n",
       "44             dont beg things else wont get anything       Renton Thurston   \n",
       "45                    refuse let fear control anymore           Maka Albarn   \n",
       "46           cant find reason fight shouldnt fighting                 Akame   \n",
       "48  people cant throw something important away nev...          Armin Arlelt   \n",
       "49                       cant waste time worrying ifs       Ichigo Kurosaki   \n",
       "50              fools dont respect past likely repeat            Nico Robin   \n",
       "\n",
       "                                       Anime         logistic  \\\n",
       "0                                     Naruto        One Piece   \n",
       "1                                  One Piece        One Piece   \n",
       "2                                     Naruto           Naruto   \n",
       "3                                  Slam Dunk          Haikyuu   \n",
       "4            Uchuu Kyoudai or Space Brothers          Haikyuu   \n",
       "5                                  One Piece        One Piece   \n",
       "6                                    Another          Haikyuu   \n",
       "7                                     Naruto           Naruto   \n",
       "8                            Rurouni Kenshin  Rurouni Kenshin   \n",
       "9                                 Fairy Tail       Fairy Tail   \n",
       "10                               Tokyo Ghoul          Haikyuu   \n",
       "11                                    Naruto  Attack on Titan   \n",
       "12                             One Punch Man          Haikyuu   \n",
       "13                      Amagi Brilliant Park  Attack on Titan   \n",
       "14                                 One Piece        One Piece   \n",
       "15                       Kuroko s Basketball          Haikyuu   \n",
       "16                                 Barakamon          Haikyuu   \n",
       "17                               Log Horizon           Naruto   \n",
       "18                                  Hellsing  Attack on Titan   \n",
       "19   Rurouni Kenshin: Meiji Kenkaku Romantan          Haikyuu   \n",
       "20                                    Trigun           Trigun   \n",
       "21                                   Another          Haikyuu   \n",
       "22                              Black Clover          Haikyuu   \n",
       "23         A Place Further than the Universe          Haikyuu   \n",
       "24                                    Naruto        One Piece   \n",
       "25                Tengen Toppa Gurren Lagann  Attack on Titan   \n",
       "26    Rurouni Kenshin Meiji Kenkaku Romantan  Rurouni Kenshin   \n",
       "27                             One Punch Man  Attack on Titan   \n",
       "28      The Garden of Sinners Kara no Ky kai          Haikyuu   \n",
       "29         A Place Further than the Universe  Attack on Titan   \n",
       "30                                    Trigun  Attack on Titan   \n",
       "31                                    Naruto           Naruto   \n",
       "32                                    Naruto           Naruto   \n",
       "33  The Fruit of Grisaia Gurizaia no Kajitsu          Haikyuu   \n",
       "34                           Rurouni Kenshin          Haikyuu   \n",
       "35                                    Trigun           Trigun   \n",
       "36                   Higurashi When They Cry  Attack on Titan   \n",
       "37                               Fate Series  Attack on Titan   \n",
       "38        Shingeki no Kyojin Attack on Titan  Attack on Titan   \n",
       "39                                 Fate Zero          Haikyuu   \n",
       "40                             Dragon Ball Z        One Piece   \n",
       "41                           Fate Stay Night          Haikyuu   \n",
       "42                             Tamako Market           Naruto   \n",
       "43                                    Naruto           Naruto   \n",
       "44                              Eureka Seven           Naruto   \n",
       "45                                Soul Eater          Haikyuu   \n",
       "46                             Akame Ga Kill  Attack on Titan   \n",
       "48                           Attack on Titan  Attack on Titan   \n",
       "49                                    Bleach          Haikyuu   \n",
       "50                                 One Piece        One Piece   \n",
       "\n",
       "         naivebayes          xgboost  \\\n",
       "0         One Piece           Naruto   \n",
       "1         One Piece        One Piece   \n",
       "2            Naruto           Naruto   \n",
       "3   Attack on Titan          Haikyuu   \n",
       "4           Haikyuu          Haikyuu   \n",
       "5         One Piece        One Piece   \n",
       "6           Haikyuu          Haikyuu   \n",
       "7            Naruto           Naruto   \n",
       "8   Attack on Titan          Haikyuu   \n",
       "9        Fairy Tail       Fairy Tail   \n",
       "10          Haikyuu          Haikyuu   \n",
       "11  Attack on Titan  Attack on Titan   \n",
       "12  Attack on Titan          Haikyuu   \n",
       "13  Attack on Titan  Attack on Titan   \n",
       "14        One Piece          Haikyuu   \n",
       "15          Haikyuu          Haikyuu   \n",
       "16          Haikyuu          Haikyuu   \n",
       "17           Naruto           Naruto   \n",
       "18  Attack on Titan  Attack on Titan   \n",
       "19  Attack on Titan          Haikyuu   \n",
       "20           Trigun          Haikyuu   \n",
       "21          Haikyuu          Haikyuu   \n",
       "22          Haikyuu          Haikyuu   \n",
       "23          Haikyuu          Haikyuu   \n",
       "24        One Piece          Haikyuu   \n",
       "25  Attack on Titan          Haikyuu   \n",
       "26  Attack on Titan          Haikyuu   \n",
       "27  Attack on Titan          Haikyuu   \n",
       "28          Haikyuu          Haikyuu   \n",
       "29  Attack on Titan  Attack on Titan   \n",
       "30  Attack on Titan          Haikyuu   \n",
       "31           Naruto           Naruto   \n",
       "32           Naruto          Haikyuu   \n",
       "33          Haikyuu          Haikyuu   \n",
       "34  Attack on Titan          Haikyuu   \n",
       "35           Trigun          Haikyuu   \n",
       "36  Attack on Titan          Haikyuu   \n",
       "37  Attack on Titan          Haikyuu   \n",
       "38  Attack on Titan          Haikyuu   \n",
       "39          Haikyuu          Haikyuu   \n",
       "40        One Piece          Haikyuu   \n",
       "41          Haikyuu  Attack on Titan   \n",
       "42           Naruto  Attack on Titan   \n",
       "43           Naruto           Naruto   \n",
       "44           Naruto           Naruto   \n",
       "45          Haikyuu          Haikyuu   \n",
       "46  Attack on Titan          Haikyuu   \n",
       "48  Attack on Titan          Haikyuu   \n",
       "49          Haikyuu          Haikyuu   \n",
       "50        One Piece        One Piece   \n",
       "\n",
       "                                               tokens  frequency  \n",
       "0   [peoples, lives, dont, end, die, ends, lose, f...          8  \n",
       "1           [dont, take, risks, cant, create, future]          6  \n",
       "2                 [dont, like, destiny, dont, accept]          5  \n",
       "3                           [give, thats, game, ends]          4  \n",
       "4        [live, day, die, control, canand, fly, free]          7  \n",
       "5   [forgetting, like, wound, wound, may, heal, al...          9  \n",
       "6       [pathetic, give, something, even, give, shot]          6  \n",
       "7    [dont, share, someones, pain, never, understand]          6  \n",
       "8   [whatever, lose, youll, find, throw, away, you...         10  \n",
       "9   [dont, know, tomorrow, holds, thats, live, eve...          9  \n",
       "10  [apologize, monster, anyone, ever, apologized,...          7  \n",
       "11  [people, become, stronger, memories, cant, for...          6  \n",
       "12       [ill, leave, tomorrows, problems, tomorrows]          5  \n",
       "13  [wan, na, make, people, dream, youve, got, ta,...          9  \n",
       "14                   [lonely, painful, getting, hurt]          4  \n",
       "15       [theres, shame, falling, true, shame, stand]          6  \n",
       "16          [simplicity, easiest, path, true, beauty]          5  \n",
       "17                     [cant, something, dont, focus]          4  \n",
       "18  [giving, kills, people, people, reject, giving...         11  \n",
       "19       [die, anytime, living, takes, true, courage]          6  \n",
       "20   [every, journey, begins, single, step, patience]          6  \n",
       "21   [doesnt, good, pretend, cant, see, whats, going]          7  \n",
       "22            [weak, nothing, ashamed, staying, weak]          5  \n",
       "23  [act, necessarily, compassion, true, compassio...          8  \n",
       "24                [dropout, beat, genius, hard, work]          5  \n",
       "25  [reject, common, sense, make, impossible, poss...          6  \n",
       "26  [whatever, lose, youll, find, throw, away, you...         10  \n",
       "27  [really, want, strong, stop, caring, surroundi...          7  \n",
       "28     [vision, eyes, see, image, brain, comprehends]          6  \n",
       "29  [sometimes, people, mean, dont, fight, mean, m...         10  \n",
       "30                     [ticket, future, always, open]          4  \n",
       "31             [hard, work, worthless, dont, believe]          5  \n",
       "32  [place, someone, still, thinks, place, call, h...          7  \n",
       "33  [life, comes, cost, wouldnt, arrogant, die, yo...          9  \n",
       "34       [die, anytime, living, takes, true, courage]          6  \n",
       "35   [every, journey, begins, single, step, patience]          6  \n",
       "36                         [submit, fate, thats, end]          4  \n",
       "37                   [moment, death, humanity, value]          4  \n",
       "38  [people, cant, throw, something, important, aw...         10  \n",
       "39           [whatever, enjoy, fullest, secret, life]          5  \n",
       "40  [power, comes, response, need, desire, create,...          7  \n",
       "41  [regrets, one, proud, ones, life, one, wish, a...          9  \n",
       "42  [cant, always, hold, things, important, lettin...         10  \n",
       "43  [dont, like, destiny, dont, accept, instead, c...         10  \n",
       "44     [dont, beg, things, else, wont, get, anything]          7  \n",
       "45              [refuse, let, fear, control, anymore]          5  \n",
       "46    [cant, find, reason, fight, shouldnt, fighting]          6  \n",
       "48  [people, cant, throw, something, important, aw...         10  \n",
       "49                 [cant, waste, time, worrying, ifs]          5  \n",
       "50       [fools, dont, respect, past, likely, repeat]          6  "
      ]
     },
     "execution_count": 232,
     "metadata": {},
     "output_type": "execute_result"
    }
   ],
   "source": [
    "df.head(50)"
   ]
  },
  {
   "cell_type": "code",
   "execution_count": 212,
   "metadata": {},
   "outputs": [
    {
     "data": {
      "text/plain": [
       "0.2222222222222222"
      ]
     },
     "execution_count": 212,
     "metadata": {},
     "output_type": "execute_result"
    }
   ],
   "source": [
    "accuracy_score(y_pred,lr.predict(df[\"Quote\"])[:36])"
   ]
  },
  {
   "cell_type": "code",
   "execution_count": 213,
   "metadata": {},
   "outputs": [
    {
     "data": {
      "text/plain": [
       "0.2222222222222222"
      ]
     },
     "execution_count": 213,
     "metadata": {},
     "output_type": "execute_result"
    }
   ],
   "source": [
    "accuracy_score(y_pred,naivebayes.predict(df[\"Quote\"])[:36])"
   ]
  },
  {
   "cell_type": "code",
   "execution_count": 214,
   "metadata": {},
   "outputs": [
    {
     "data": {
      "text/plain": [
       "0.4444444444444444"
      ]
     },
     "execution_count": 214,
     "metadata": {},
     "output_type": "execute_result"
    }
   ],
   "source": [
    "accuracy_score(y_pred,xgboost.predict(df[\"Quote\"])[:36])"
   ]
  },
  {
   "cell_type": "code",
   "execution_count": 239,
   "metadata": {},
   "outputs": [],
   "source": [
    "df2 = pd.DataFrame(df.xgboost, columns=[\"xgboost\"])\n",
    "df32 = pd.DataFrame(df.Quote, columns=[\"Quote\"])"
   ]
  },
  {
   "cell_type": "code",
   "execution_count": 242,
   "metadata": {},
   "outputs": [
    {
     "data": {
      "text/html": [
       "<div>\n",
       "<style scoped>\n",
       "    .dataframe tbody tr th:only-of-type {\n",
       "        vertical-align: middle;\n",
       "    }\n",
       "\n",
       "    .dataframe tbody tr th {\n",
       "        vertical-align: top;\n",
       "    }\n",
       "\n",
       "    .dataframe thead th {\n",
       "        text-align: right;\n",
       "    }\n",
       "</style>\n",
       "<table border=\"1\" class=\"dataframe\">\n",
       "  <thead>\n",
       "    <tr style=\"text-align: right;\">\n",
       "      <th></th>\n",
       "      <th>xgboost</th>\n",
       "      <th>Quote</th>\n",
       "    </tr>\n",
       "  </thead>\n",
       "  <tbody>\n",
       "    <tr>\n",
       "      <th>0</th>\n",
       "      <td>Naruto</td>\n",
       "      <td>peoples lives dont end die ends lose faith</td>\n",
       "    </tr>\n",
       "    <tr>\n",
       "      <th>1</th>\n",
       "      <td>One Piece</td>\n",
       "      <td>dont take risks cant create future</td>\n",
       "    </tr>\n",
       "    <tr>\n",
       "      <th>2</th>\n",
       "      <td>Naruto</td>\n",
       "      <td>dont like destiny dont accept</td>\n",
       "    </tr>\n",
       "    <tr>\n",
       "      <th>3</th>\n",
       "      <td>Haikyuu</td>\n",
       "      <td>give thats game ends</td>\n",
       "    </tr>\n",
       "    <tr>\n",
       "      <th>4</th>\n",
       "      <td>Haikyuu</td>\n",
       "      <td>live day die control canand fly free</td>\n",
       "    </tr>\n",
       "  </tbody>\n",
       "</table>\n",
       "</div>"
      ],
      "text/plain": [
       "     xgboost                                       Quote\n",
       "0     Naruto  peoples lives dont end die ends lose faith\n",
       "1  One Piece          dont take risks cant create future\n",
       "2     Naruto               dont like destiny dont accept\n",
       "3    Haikyuu                        give thats game ends\n",
       "4    Haikyuu        live day die control canand fly free"
      ]
     },
     "execution_count": 242,
     "metadata": {},
     "output_type": "execute_result"
    }
   ],
   "source": [
    "df_merged = pd.concat([df2, df31], axis=1)\n",
    "df_merged.head()"
   ]
  },
  {
   "cell_type": "markdown",
   "metadata": {},
   "source": [
    "# Sentiment "
   ]
  },
  {
   "cell_type": "code",
   "execution_count": 244,
   "metadata": {},
   "outputs": [
    {
     "name": "stdout",
     "output_type": "stream",
     "text": [
      "Requirement already satisfied: textblob in d:\\spyde\\lib\\site-packages (0.15.3)\n",
      "Requirement already satisfied: nltk>=3.1 in d:\\spyde\\lib\\site-packages (from textblob) (3.5)\n",
      "Requirement already satisfied: click in d:\\spyde\\lib\\site-packages (from nltk>=3.1->textblob) (7.1.2)\n",
      "Requirement already satisfied: joblib in d:\\spyde\\lib\\site-packages (from nltk>=3.1->textblob) (0.17.0)\n",
      "Requirement already satisfied: regex in d:\\spyde\\lib\\site-packages (from nltk>=3.1->textblob) (2020.10.15)\n",
      "Requirement already satisfied: tqdm in d:\\spyde\\lib\\site-packages (from nltk>=3.1->textblob) (4.50.2)\n"
     ]
    }
   ],
   "source": [
    "!pip install textblob \n",
    "from textblob import TextBlob"
   ]
  },
  {
   "cell_type": "code",
   "execution_count": 246,
   "metadata": {},
   "outputs": [],
   "source": [
    "blob_emptyline2 = []\n",
    "\n",
    "for i in df_merged[\"Quote\"]:\n",
    "    blob = TextBlob(i).sentiment\n",
    "    blob_emptyline2.append(blob)"
   ]
  },
  {
   "cell_type": "code",
   "execution_count": 247,
   "metadata": {},
   "outputs": [],
   "source": [
    "df_blob2 = pd.DataFrame(blob_emptyline2)"
   ]
  },
  {
   "cell_type": "code",
   "execution_count": 249,
   "metadata": {},
   "outputs": [
    {
     "data": {
      "text/html": [
       "<div>\n",
       "<style scoped>\n",
       "    .dataframe tbody tr th:only-of-type {\n",
       "        vertical-align: middle;\n",
       "    }\n",
       "\n",
       "    .dataframe tbody tr th {\n",
       "        vertical-align: top;\n",
       "    }\n",
       "\n",
       "    .dataframe thead th {\n",
       "        text-align: right;\n",
       "    }\n",
       "</style>\n",
       "<table border=\"1\" class=\"dataframe\">\n",
       "  <thead>\n",
       "    <tr style=\"text-align: right;\">\n",
       "      <th></th>\n",
       "      <th>xgboost</th>\n",
       "      <th>Quote</th>\n",
       "      <th>polarity</th>\n",
       "      <th>subjectivity</th>\n",
       "    </tr>\n",
       "  </thead>\n",
       "  <tbody>\n",
       "    <tr>\n",
       "      <th>0</th>\n",
       "      <td>Naruto</td>\n",
       "      <td>peoples lives dont end die ends lose faith</td>\n",
       "      <td>0.000000</td>\n",
       "      <td>0.000000</td>\n",
       "    </tr>\n",
       "    <tr>\n",
       "      <th>1</th>\n",
       "      <td>One Piece</td>\n",
       "      <td>dont take risks cant create future</td>\n",
       "      <td>0.000000</td>\n",
       "      <td>0.125000</td>\n",
       "    </tr>\n",
       "    <tr>\n",
       "      <th>2</th>\n",
       "      <td>Naruto</td>\n",
       "      <td>dont like destiny dont accept</td>\n",
       "      <td>0.000000</td>\n",
       "      <td>0.000000</td>\n",
       "    </tr>\n",
       "    <tr>\n",
       "      <th>3</th>\n",
       "      <td>Haikyuu</td>\n",
       "      <td>give thats game ends</td>\n",
       "      <td>-0.400000</td>\n",
       "      <td>0.400000</td>\n",
       "    </tr>\n",
       "    <tr>\n",
       "      <th>4</th>\n",
       "      <td>Haikyuu</td>\n",
       "      <td>live day die control canand fly free</td>\n",
       "      <td>0.445455</td>\n",
       "      <td>0.733333</td>\n",
       "    </tr>\n",
       "  </tbody>\n",
       "</table>\n",
       "</div>"
      ],
      "text/plain": [
       "     xgboost                                       Quote  polarity  \\\n",
       "0     Naruto  peoples lives dont end die ends lose faith  0.000000   \n",
       "1  One Piece          dont take risks cant create future  0.000000   \n",
       "2     Naruto               dont like destiny dont accept  0.000000   \n",
       "3    Haikyuu                        give thats game ends -0.400000   \n",
       "4    Haikyuu        live day die control canand fly free  0.445455   \n",
       "\n",
       "   subjectivity  \n",
       "0      0.000000  \n",
       "1      0.125000  \n",
       "2      0.000000  \n",
       "3      0.400000  \n",
       "4      0.733333  "
      ]
     },
     "execution_count": 249,
     "metadata": {},
     "output_type": "execute_result"
    }
   ],
   "source": [
    "df_blob3 = pd.concat([df_merged.reset_index(drop=True), df_blob2], axis=1)\n",
    "df_blob3.head()"
   ]
  },
  {
   "cell_type": "code",
   "execution_count": 250,
   "metadata": {},
   "outputs": [],
   "source": [
    "df_blob3[\"Sentiment\"] =  np.where(df_blob3[\"polarity\"] >= 0 , \"Positive\", \"Negative\")"
   ]
  },
  {
   "cell_type": "code",
   "execution_count": 251,
   "metadata": {},
   "outputs": [
    {
     "data": {
      "text/html": [
       "<div>\n",
       "<style scoped>\n",
       "    .dataframe tbody tr th:only-of-type {\n",
       "        vertical-align: middle;\n",
       "    }\n",
       "\n",
       "    .dataframe tbody tr th {\n",
       "        vertical-align: top;\n",
       "    }\n",
       "\n",
       "    .dataframe thead th {\n",
       "        text-align: right;\n",
       "    }\n",
       "</style>\n",
       "<table border=\"1\" class=\"dataframe\">\n",
       "  <thead>\n",
       "    <tr style=\"text-align: right;\">\n",
       "      <th></th>\n",
       "      <th>xgboost</th>\n",
       "      <th>Quote</th>\n",
       "      <th>polarity</th>\n",
       "      <th>subjectivity</th>\n",
       "      <th>Sentiment</th>\n",
       "    </tr>\n",
       "  </thead>\n",
       "  <tbody>\n",
       "    <tr>\n",
       "      <th>0</th>\n",
       "      <td>Naruto</td>\n",
       "      <td>peoples lives dont end die ends lose faith</td>\n",
       "      <td>0.000000</td>\n",
       "      <td>0.000000</td>\n",
       "      <td>Positive</td>\n",
       "    </tr>\n",
       "    <tr>\n",
       "      <th>1</th>\n",
       "      <td>One Piece</td>\n",
       "      <td>dont take risks cant create future</td>\n",
       "      <td>0.000000</td>\n",
       "      <td>0.125000</td>\n",
       "      <td>Positive</td>\n",
       "    </tr>\n",
       "    <tr>\n",
       "      <th>2</th>\n",
       "      <td>Naruto</td>\n",
       "      <td>dont like destiny dont accept</td>\n",
       "      <td>0.000000</td>\n",
       "      <td>0.000000</td>\n",
       "      <td>Positive</td>\n",
       "    </tr>\n",
       "    <tr>\n",
       "      <th>3</th>\n",
       "      <td>Haikyuu</td>\n",
       "      <td>give thats game ends</td>\n",
       "      <td>-0.400000</td>\n",
       "      <td>0.400000</td>\n",
       "      <td>Negative</td>\n",
       "    </tr>\n",
       "    <tr>\n",
       "      <th>4</th>\n",
       "      <td>Haikyuu</td>\n",
       "      <td>live day die control canand fly free</td>\n",
       "      <td>0.445455</td>\n",
       "      <td>0.733333</td>\n",
       "      <td>Positive</td>\n",
       "    </tr>\n",
       "  </tbody>\n",
       "</table>\n",
       "</div>"
      ],
      "text/plain": [
       "     xgboost                                       Quote  polarity  \\\n",
       "0     Naruto  peoples lives dont end die ends lose faith  0.000000   \n",
       "1  One Piece          dont take risks cant create future  0.000000   \n",
       "2     Naruto               dont like destiny dont accept  0.000000   \n",
       "3    Haikyuu                        give thats game ends -0.400000   \n",
       "4    Haikyuu        live day die control canand fly free  0.445455   \n",
       "\n",
       "   subjectivity Sentiment  \n",
       "0      0.000000  Positive  \n",
       "1      0.125000  Positive  \n",
       "2      0.000000  Positive  \n",
       "3      0.400000  Negative  \n",
       "4      0.733333  Positive  "
      ]
     },
     "execution_count": 251,
     "metadata": {},
     "output_type": "execute_result"
    }
   ],
   "source": [
    "df_blob3.head()"
   ]
  },
  {
   "cell_type": "markdown",
   "metadata": {},
   "source": [
    "# Result"
   ]
  },
  {
   "cell_type": "code",
   "execution_count": 252,
   "metadata": {},
   "outputs": [],
   "source": [
    "result = df_blob3[\"Sentiment\"].value_counts()"
   ]
  },
  {
   "cell_type": "code",
   "execution_count": 254,
   "metadata": {},
   "outputs": [
    {
     "data": {
      "image/png": "[encoded data removed]",
      "text/plain": [
       "<Figure size 792x576 with 1 Axes>"
      ]
     },
     "metadata": {},
     "output_type": "display_data"
    }
   ],
   "source": [
    "sns.set_style(\"whitegrid\")\n",
    "sns.despine(left=True, bottom=True)\n",
    "result.plot(kind=\"bar\", rot=0, color=[\"plum\",\"cyan\"]);"
   ]
  },
  {
   "cell_type": "code",
   "execution_count": 255,
   "metadata": {},
   "outputs": [
    {
     "data": {
      "text/html": [
       "<div>\n",
       "<style scoped>\n",
       "    .dataframe tbody tr th:only-of-type {\n",
       "        vertical-align: middle;\n",
       "    }\n",
       "\n",
       "    .dataframe tbody tr th {\n",
       "        vertical-align: top;\n",
       "    }\n",
       "\n",
       "    .dataframe thead th {\n",
       "        text-align: right;\n",
       "    }\n",
       "</style>\n",
       "<table border=\"1\" class=\"dataframe\">\n",
       "  <thead>\n",
       "    <tr style=\"text-align: right;\">\n",
       "      <th></th>\n",
       "      <th>xgboost</th>\n",
       "      <th>Quote</th>\n",
       "      <th>polarity</th>\n",
       "      <th>subjectivity</th>\n",
       "    </tr>\n",
       "    <tr>\n",
       "      <th>Sentiment</th>\n",
       "      <th></th>\n",
       "      <th></th>\n",
       "      <th></th>\n",
       "      <th></th>\n",
       "    </tr>\n",
       "  </thead>\n",
       "  <tbody>\n",
       "    <tr>\n",
       "      <th>Negative</th>\n",
       "      <td>34</td>\n",
       "      <td>34</td>\n",
       "      <td>34</td>\n",
       "      <td>34</td>\n",
       "    </tr>\n",
       "    <tr>\n",
       "      <th>Positive</th>\n",
       "      <td>86</td>\n",
       "      <td>86</td>\n",
       "      <td>86</td>\n",
       "      <td>86</td>\n",
       "    </tr>\n",
       "  </tbody>\n",
       "</table>\n",
       "</div>"
      ],
      "text/plain": [
       "           xgboost  Quote  polarity  subjectivity\n",
       "Sentiment                                        \n",
       "Negative        34     34        34            34\n",
       "Positive        86     86        86            86"
      ]
     },
     "execution_count": 255,
     "metadata": {},
     "output_type": "execute_result"
    }
   ],
   "source": [
    "df_blob3.groupby(\"Sentiment\").count()"
   ]
  },
  {
   "cell_type": "code",
   "execution_count": 265,
   "metadata": {
    "scrolled": true
   },
   "outputs": [
    {
     "data": {
      "text/plain": [
       "[('worlds', 'NNS'),\n",
       " ('perfect', 'VBP'),\n",
       " ('us', 'PRP'),\n",
       " ('trying', 'VBG'),\n",
       " ('best', 'JJS'),\n",
       " ('thats', 'NNS'),\n",
       " ('makes', 'VBZ'),\n",
       " ('damn', 'RB'),\n",
       " ('beautiful', 'JJ')]"
      ]
     },
     "execution_count": 265,
     "metadata": {},
     "output_type": "execute_result"
    }
   ],
   "source": [
    "df_blob3.groupby(\"polarity\").max()\n",
    "df[df[\"Quote\"].str.contains(\"worlds perfect\")]\n",
    "df.iloc[67,0]\n",
    "TextBlob(df.iloc[67,0]).tags"
   ]
  },
  {
   "cell_type": "code",
   "execution_count": null,
   "metadata": {},
   "outputs": [],
   "source": []
  },
  {
   "cell_type": "code",
   "execution_count": 266,
   "metadata": {
    "scrolled": true
   },
   "outputs": [
    {
     "data": {
      "text/plain": [
       "[('fear', 'NN'),\n",
       " ('evil', 'JJ'),\n",
       " ('tells', 'VBZ'),\n",
       " ('weakness', 'NN'),\n",
       " ('know', 'VB'),\n",
       " ('weakness', 'NN'),\n",
       " ('become', 'RB'),\n",
       " ('stronger', 'JJR'),\n",
       " ('well', 'RB'),\n",
       " ('kinder', 'VB')]"
      ]
     },
     "execution_count": 266,
     "metadata": {},
     "output_type": "execute_result"
    }
   ],
   "source": [
    "df_blob3.groupby(\"polarity\").min()\n",
    "df[df[\"Quote\"].str.contains(\"fear evil\")]\n",
    "df.iloc[63,0]\n",
    "TextBlob(df.iloc[63,0]).tags"
   ]
  },
  {
   "cell_type": "code",
   "execution_count": null,
   "metadata": {},
   "outputs": [],
   "source": []
  },
  {
   "cell_type": "code",
   "execution_count": null,
   "metadata": {},
   "outputs": [],
   "source": []
  }
 ],
 "metadata": {
  "kernelspec": {
   "display_name": "Python 3",
   "language": "python",
   "name": "python3"
  },
  "language_info": {
   "codemirror_mode": {
    "name": "ipython",
    "version": 3
   },
   "file_extension": ".py",
   "mimetype": "text/x-python",
   "name": "python",
   "nbconvert_exporter": "python",
   "pygments_lexer": "ipython3",
   "version": "3.8.5"
  }
 },
 "nbformat": 4,
 "nbformat_minor": 4
}
